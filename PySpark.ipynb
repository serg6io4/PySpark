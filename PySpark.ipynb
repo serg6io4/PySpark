{
  "nbformat": 4,
  "nbformat_minor": 0,
  "metadata": {
    "colab": {
      "provenance": [],
      "toc_visible": true
    },
    "kernelspec": {
      "name": "python3",
      "display_name": "Python 3"
    },
    "language_info": {
      "name": "python"
    }
  },
  "cells": [
    {
      "cell_type": "code",
      "execution_count": null,
      "metadata": {
        "colab": {
          "base_uri": "https://localhost:8080/"
        },
        "id": "iwd1Ygz7sP5Y",
        "outputId": "e68d2b49-1f8b-4896-b23d-11481a6ab2e8"
      },
      "outputs": [
        {
          "output_type": "stream",
          "name": "stdout",
          "text": [
            "Collecting pyspark\n",
            "  Downloading pyspark-3.5.1.tar.gz (317.0 MB)\n",
            "\u001b[2K     \u001b[90m━━━━━━━━━━━━━━━━━━━━━━━━━━━━━━━━━━━━━━━━\u001b[0m \u001b[32m317.0/317.0 MB\u001b[0m \u001b[31m2.5 MB/s\u001b[0m eta \u001b[36m0:00:00\u001b[0m\n",
            "\u001b[?25h  Preparing metadata (setup.py) ... \u001b[?25l\u001b[?25hdone\n",
            "Requirement already satisfied: py4j==0.10.9.7 in /usr/local/lib/python3.10/dist-packages (from pyspark) (0.10.9.7)\n",
            "Building wheels for collected packages: pyspark\n",
            "  Building wheel for pyspark (setup.py) ... \u001b[?25l\u001b[?25hdone\n",
            "  Created wheel for pyspark: filename=pyspark-3.5.1-py2.py3-none-any.whl size=317488491 sha256=930896a8278489a5b43c6c9a809e8ec035a14f7bcba4a8e074abc22873d409ab\n",
            "  Stored in directory: /root/.cache/pip/wheels/80/1d/60/2c256ed38dddce2fdd93be545214a63e02fbd8d74fb0b7f3a6\n",
            "Successfully built pyspark\n",
            "Installing collected packages: pyspark\n",
            "Successfully installed pyspark-3.5.1\n"
          ]
        }
      ],
      "source": [
        "!pip install pyspark"
      ]
    },
    {
      "cell_type": "markdown",
      "source": [
        "Acabo de instalar pyspark, esta es la primera vez que lo uso"
      ],
      "metadata": {
        "id": "WhDNesHAspa8"
      }
    },
    {
      "cell_type": "markdown",
      "source": [
        "# Crear una sesión de SPARK"
      ],
      "metadata": {
        "id": "b7VvUpxHsz6s"
      }
    },
    {
      "cell_type": "code",
      "source": [
        "from pyspark.sql import SparkSession\n",
        "from pyspark import SparkContext\n",
        "\n",
        "SpSession = SparkSession \\\n",
        "            .builder \\\n",
        "            .appName(\"Demo Spark\") \\\n",
        "            .getOrCreate()"
      ],
      "metadata": {
        "id": "2gnmHde-sw4a"
      },
      "execution_count": null,
      "outputs": []
    },
    {
      "cell_type": "markdown",
      "source": [
        "SparkSession nos permite crear o registrar un dataframe como una tabla, ejecutar SQL sobre tablas, tablas cache, y leer archivos.\n",
        "\n",
        "Trae un atributo de clase llamada builder que es su constructor.\n",
        "\n",
        "SparkContext permite hacer una conexión a un SparkCluster, que luego se va a utilizar para crear un ERDD"
      ],
      "metadata": {
        "id": "T9z3uOQmtrCV"
      }
    },
    {
      "cell_type": "code",
      "source": [
        "SpContext = SpSession.sparkContext"
      ],
      "metadata": {
        "id": "xv7X8N1wvE-d"
      },
      "execution_count": null,
      "outputs": []
    },
    {
      "cell_type": "markdown",
      "source": [
        "# Cargamos los datos"
      ],
      "metadata": {
        "id": "DJgMetwpvgV1"
      }
    },
    {
      "cell_type": "code",
      "source": [
        "data = SpSession.read.csv('cars.csv', header=True, sep = \";\")\n",
        "data.show(5)"
      ],
      "metadata": {
        "colab": {
          "base_uri": "https://localhost:8080/"
        },
        "id": "uf_j-MmFvkT6",
        "outputId": "796d85a8-c18c-47e9-c569-10cc61242b61"
      },
      "execution_count": null,
      "outputs": [
        {
          "output_type": "stream",
          "name": "stdout",
          "text": [
            "+--------------------+------+---------+------------+----------+------+------------+-----+------+\n",
            "|                 Car|   MPG|Cylinders|Displacement|Horsepower|Weight|Acceleration|Model|Origin|\n",
            "+--------------------+------+---------+------------+----------+------+------------+-----+------+\n",
            "|              STRING|DOUBLE|      INT|      DOUBLE|    DOUBLE|DOUBLE|      DOUBLE|  INT|   CAT|\n",
            "|Chevrolet Chevell...|  18.0|        8|       307.0|     130.0| 3504.|        12.0|   70|    US|\n",
            "|   Buick Skylark 320|  15.0|        8|       350.0|     165.0| 3693.|        11.5|   70|    US|\n",
            "|  Plymouth Satellite|  18.0|        8|       318.0|     150.0| 3436.|        11.0|   70|    US|\n",
            "|       AMC Rebel SST|  16.0|        8|       304.0|     150.0| 3433.|        12.0|   70|    US|\n",
            "+--------------------+------+---------+------------+----------+------+------------+-----+------+\n",
            "only showing top 5 rows\n",
            "\n"
          ]
        }
      ]
    },
    {
      "cell_type": "markdown",
      "source": [
        "# Saber sobre la información"
      ],
      "metadata": {
        "id": "0y34LGz5wI5g"
      }
    },
    {
      "cell_type": "markdown",
      "source": [
        "Para saber la estructura de los datos, te dicen las columnas, sus categorías y el tipo"
      ],
      "metadata": {
        "id": "4J_sJHF9wXFw"
      }
    },
    {
      "cell_type": "code",
      "source": [
        "data.printSchema()"
      ],
      "metadata": {
        "colab": {
          "base_uri": "https://localhost:8080/"
        },
        "id": "sa-JUgaKwO3v",
        "outputId": "b86c3712-7fbc-4bd0-a21e-de09b1d79f30"
      },
      "execution_count": null,
      "outputs": [
        {
          "output_type": "stream",
          "name": "stdout",
          "text": [
            "root\n",
            " |-- Car: string (nullable = true)\n",
            " |-- MPG: string (nullable = true)\n",
            " |-- Cylinders: string (nullable = true)\n",
            " |-- Displacement: string (nullable = true)\n",
            " |-- Horsepower: string (nullable = true)\n",
            " |-- Weight: string (nullable = true)\n",
            " |-- Acceleration: string (nullable = true)\n",
            " |-- Model: string (nullable = true)\n",
            " |-- Origin: string (nullable = true)\n",
            "\n"
          ]
        }
      ]
    },
    {
      "cell_type": "markdown",
      "source": [
        "Esto solo te da los nombres de las columnas:"
      ],
      "metadata": {
        "id": "fgQ4bIgMwge8"
      }
    },
    {
      "cell_type": "code",
      "source": [
        "data.columns"
      ],
      "metadata": {
        "colab": {
          "base_uri": "https://localhost:8080/"
        },
        "id": "S-ffzxD4wmKY",
        "outputId": "37de6d76-f316-4377-c959-c4e05d8b436a"
      },
      "execution_count": null,
      "outputs": [
        {
          "output_type": "execute_result",
          "data": {
            "text/plain": [
              "['Car',\n",
              " 'MPG',\n",
              " 'Cylinders',\n",
              " 'Displacement',\n",
              " 'Horsepower',\n",
              " 'Weight',\n",
              " 'Acceleration',\n",
              " 'Model',\n",
              " 'Origin']"
            ]
          },
          "metadata": {},
          "execution_count": 7
        }
      ]
    },
    {
      "cell_type": "markdown",
      "source": [
        "# Y ahora vamos a seleccionar columnas:"
      ],
      "metadata": {
        "id": "Lu5hIHsWws9x"
      }
    },
    {
      "cell_type": "code",
      "source": [
        "#Método 1\n",
        "#Sin el truncate, cortaría los datos. Con truncate=false, se ve todo el nombre\n",
        "#completo\n",
        "data.select(data.Car).show(truncate = False)"
      ],
      "metadata": {
        "colab": {
          "base_uri": "https://localhost:8080/"
        },
        "id": "wNMTbljDwyE4",
        "outputId": "1b7dfc9d-fbcb-4d5a-b3fa-9b30fb7ed343"
      },
      "execution_count": null,
      "outputs": [
        {
          "output_type": "stream",
          "name": "stdout",
          "text": [
            "+--------------------------------+\n",
            "|Car                             |\n",
            "+--------------------------------+\n",
            "|STRING                          |\n",
            "|Chevrolet Chevelle Malibu       |\n",
            "|Buick Skylark 320               |\n",
            "|Plymouth Satellite              |\n",
            "|AMC Rebel SST                   |\n",
            "|Ford Torino                     |\n",
            "|Ford Galaxie 500                |\n",
            "|Chevrolet Impala                |\n",
            "|Plymouth Fury iii               |\n",
            "|Pontiac Catalina                |\n",
            "|AMC Ambassador DPL              |\n",
            "|Citroen DS-21 Pallas            |\n",
            "|Chevrolet Chevelle Concours (sw)|\n",
            "|Ford Torino (sw)                |\n",
            "|Plymouth Satellite (sw)         |\n",
            "|AMC Rebel SST (sw)              |\n",
            "|Dodge Challenger SE             |\n",
            "|Plymouth 'Cuda 340              |\n",
            "|Ford Mustang Boss 302           |\n",
            "|Chevrolet Monte Carlo           |\n",
            "+--------------------------------+\n",
            "only showing top 20 rows\n",
            "\n"
          ]
        }
      ]
    },
    {
      "cell_type": "code",
      "source": [
        "#Método 2\n",
        "\n",
        "data.select(data['Car']).show(truncate = False)"
      ],
      "metadata": {
        "colab": {
          "base_uri": "https://localhost:8080/"
        },
        "id": "_Ukol9HdxeCy",
        "outputId": "453a533e-dfb4-4d89-91fe-a5b02a57d65b"
      },
      "execution_count": null,
      "outputs": [
        {
          "output_type": "stream",
          "name": "stdout",
          "text": [
            "+--------------------------------+\n",
            "|Car                             |\n",
            "+--------------------------------+\n",
            "|STRING                          |\n",
            "|Chevrolet Chevelle Malibu       |\n",
            "|Buick Skylark 320               |\n",
            "|Plymouth Satellite              |\n",
            "|AMC Rebel SST                   |\n",
            "|Ford Torino                     |\n",
            "|Ford Galaxie 500                |\n",
            "|Chevrolet Impala                |\n",
            "|Plymouth Fury iii               |\n",
            "|Pontiac Catalina                |\n",
            "|AMC Ambassador DPL              |\n",
            "|Citroen DS-21 Pallas            |\n",
            "|Chevrolet Chevelle Concours (sw)|\n",
            "|Ford Torino (sw)                |\n",
            "|Plymouth Satellite (sw)         |\n",
            "|AMC Rebel SST (sw)              |\n",
            "|Dodge Challenger SE             |\n",
            "|Plymouth 'Cuda 340              |\n",
            "|Ford Mustang Boss 302           |\n",
            "|Chevrolet Monte Carlo           |\n",
            "+--------------------------------+\n",
            "only showing top 20 rows\n",
            "\n"
          ]
        }
      ]
    },
    {
      "cell_type": "code",
      "source": [
        "#Método 3\n",
        "from pyspark.sql.functions import col\n",
        "data.select(col('Car')).show(truncate = False)"
      ],
      "metadata": {
        "colab": {
          "base_uri": "https://localhost:8080/"
        },
        "id": "V-ml0Rg5x5um",
        "outputId": "a80c53ca-fe49-4fce-deab-d9062ff27542"
      },
      "execution_count": null,
      "outputs": [
        {
          "output_type": "stream",
          "name": "stdout",
          "text": [
            "+--------------------------------+\n",
            "|Car                             |\n",
            "+--------------------------------+\n",
            "|STRING                          |\n",
            "|Chevrolet Chevelle Malibu       |\n",
            "|Buick Skylark 320               |\n",
            "|Plymouth Satellite              |\n",
            "|AMC Rebel SST                   |\n",
            "|Ford Torino                     |\n",
            "|Ford Galaxie 500                |\n",
            "|Chevrolet Impala                |\n",
            "|Plymouth Fury iii               |\n",
            "|Pontiac Catalina                |\n",
            "|AMC Ambassador DPL              |\n",
            "|Citroen DS-21 Pallas            |\n",
            "|Chevrolet Chevelle Concours (sw)|\n",
            "|Ford Torino (sw)                |\n",
            "|Plymouth Satellite (sw)         |\n",
            "|AMC Rebel SST (sw)              |\n",
            "|Dodge Challenger SE             |\n",
            "|Plymouth 'Cuda 340              |\n",
            "|Ford Mustang Boss 302           |\n",
            "|Chevrolet Monte Carlo           |\n",
            "+--------------------------------+\n",
            "only showing top 20 rows\n",
            "\n"
          ]
        }
      ]
    },
    {
      "cell_type": "code",
      "source": [
        "#Selección múltiple\n",
        "\n",
        "data.select(data.Car, data.Cylinders).show(truncate = False)"
      ],
      "metadata": {
        "colab": {
          "base_uri": "https://localhost:8080/"
        },
        "id": "VvoY8VP2yUdM",
        "outputId": "c6b1d993-3d48-454d-e4d6-b322051dd36a"
      },
      "execution_count": null,
      "outputs": [
        {
          "output_type": "stream",
          "name": "stdout",
          "text": [
            "+--------------------------------+---------+\n",
            "|Car                             |Cylinders|\n",
            "+--------------------------------+---------+\n",
            "|STRING                          |INT      |\n",
            "|Chevrolet Chevelle Malibu       |8        |\n",
            "|Buick Skylark 320               |8        |\n",
            "|Plymouth Satellite              |8        |\n",
            "|AMC Rebel SST                   |8        |\n",
            "|Ford Torino                     |8        |\n",
            "|Ford Galaxie 500                |8        |\n",
            "|Chevrolet Impala                |8        |\n",
            "|Plymouth Fury iii               |8        |\n",
            "|Pontiac Catalina                |8        |\n",
            "|AMC Ambassador DPL              |8        |\n",
            "|Citroen DS-21 Pallas            |4        |\n",
            "|Chevrolet Chevelle Concours (sw)|8        |\n",
            "|Ford Torino (sw)                |8        |\n",
            "|Plymouth Satellite (sw)         |8        |\n",
            "|AMC Rebel SST (sw)              |8        |\n",
            "|Dodge Challenger SE             |8        |\n",
            "|Plymouth 'Cuda 340              |8        |\n",
            "|Ford Mustang Boss 302           |8        |\n",
            "|Chevrolet Monte Carlo           |8        |\n",
            "+--------------------------------+---------+\n",
            "only showing top 20 rows\n",
            "\n"
          ]
        }
      ]
    },
    {
      "cell_type": "markdown",
      "source": [
        "# Agregar nuevas columnas"
      ],
      "metadata": {
        "id": "311BNGw_zV1K"
      }
    },
    {
      "cell_type": "code",
      "source": [
        "#Caso 1: agregar una columna\n",
        "from pyspark.sql.functions import lit\n",
        "\n",
        "df = data.withColumn('First_Column', lit(1))\n",
        "df.show(5)"
      ],
      "metadata": {
        "colab": {
          "base_uri": "https://localhost:8080/"
        },
        "id": "9STOMutSzYUe",
        "outputId": "ee90aed0-1e81-4b48-a1f2-541beda9fe4d"
      },
      "execution_count": null,
      "outputs": [
        {
          "output_type": "stream",
          "name": "stdout",
          "text": [
            "+--------------------+------+---------+------------+----------+------+------------+-----+------+------------+\n",
            "|                 Car|   MPG|Cylinders|Displacement|Horsepower|Weight|Acceleration|Model|Origin|First_Column|\n",
            "+--------------------+------+---------+------------+----------+------+------------+-----+------+------------+\n",
            "|              STRING|DOUBLE|      INT|      DOUBLE|    DOUBLE|DOUBLE|      DOUBLE|  INT|   CAT|           1|\n",
            "|Chevrolet Chevell...|  18.0|        8|       307.0|     130.0| 3504.|        12.0|   70|    US|           1|\n",
            "|   Buick Skylark 320|  15.0|        8|       350.0|     165.0| 3693.|        11.5|   70|    US|           1|\n",
            "|  Plymouth Satellite|  18.0|        8|       318.0|     150.0| 3436.|        11.0|   70|    US|           1|\n",
            "|       AMC Rebel SST|  16.0|        8|       304.0|     150.0| 3433.|        12.0|   70|    US|           1|\n",
            "+--------------------+------+---------+------------+----------+------+------------+-----+------+------------+\n",
            "only showing top 5 rows\n",
            "\n"
          ]
        }
      ]
    },
    {
      "cell_type": "code",
      "source": [
        "#Para agregar más columnas\n",
        "df = data.withColumn ('Second_Column', lit(2)) \\\n",
        "                     .withColumn('Third_Column', lit('ThirdColumn'))\n",
        "df.show(5)"
      ],
      "metadata": {
        "colab": {
          "base_uri": "https://localhost:8080/"
        },
        "id": "s4VZxNs30KBO",
        "outputId": "85e19582-d1b2-4159-d9a3-f6f01dcc9a48"
      },
      "execution_count": null,
      "outputs": [
        {
          "output_type": "stream",
          "name": "stdout",
          "text": [
            "+--------------------+------+---------+------------+----------+------+------------+-----+------+-------------+------------+\n",
            "|                 Car|   MPG|Cylinders|Displacement|Horsepower|Weight|Acceleration|Model|Origin|Second_Column|Third_Column|\n",
            "+--------------------+------+---------+------------+----------+------+------------+-----+------+-------------+------------+\n",
            "|              STRING|DOUBLE|      INT|      DOUBLE|    DOUBLE|DOUBLE|      DOUBLE|  INT|   CAT|            2| ThirdColumn|\n",
            "|Chevrolet Chevell...|  18.0|        8|       307.0|     130.0| 3504.|        12.0|   70|    US|            2| ThirdColumn|\n",
            "|   Buick Skylark 320|  15.0|        8|       350.0|     165.0| 3693.|        11.5|   70|    US|            2| ThirdColumn|\n",
            "|  Plymouth Satellite|  18.0|        8|       318.0|     150.0| 3436.|        11.0|   70|    US|            2| ThirdColumn|\n",
            "|       AMC Rebel SST|  16.0|        8|       304.0|     150.0| 3433.|        12.0|   70|    US|            2| ThirdColumn|\n",
            "+--------------------+------+---------+------------+----------+------+------------+-----+------+-------------+------------+\n",
            "only showing top 5 rows\n",
            "\n"
          ]
        }
      ]
    },
    {
      "cell_type": "markdown",
      "source": [
        "# Agrupación"
      ],
      "metadata": {
        "id": "zmjajUTf0nq_"
      }
    },
    {
      "cell_type": "code",
      "source": [
        "df.groupBy('origin', 'Model').count().show()"
      ],
      "metadata": {
        "colab": {
          "base_uri": "https://localhost:8080/"
        },
        "id": "X2sfZMvF0qCb",
        "outputId": "32a0cd4c-9d45-4f91-948c-34000f5b8307"
      },
      "execution_count": null,
      "outputs": [
        {
          "output_type": "stream",
          "name": "stdout",
          "text": [
            "+------+-----+-----+\n",
            "|origin|Model|count|\n",
            "+------+-----+-----+\n",
            "| Japan|   76|    4|\n",
            "|    US|   81|   13|\n",
            "|    US|   80|    7|\n",
            "|    US|   76|   22|\n",
            "| Japan|   70|    2|\n",
            "|    US|   78|   22|\n",
            "|Europe|   76|    8|\n",
            "|    US|   70|   27|\n",
            "| Japan|   75|    4|\n",
            "|Europe|   80|    9|\n",
            "| Japan|   77|    6|\n",
            "|Europe|   72|    5|\n",
            "|    US|   75|   20|\n",
            "|    US|   79|   23|\n",
            "|    US|   82|   20|\n",
            "|   CAT|  INT|    1|\n",
            "|Europe|   75|    6|\n",
            "| Japan|   78|    8|\n",
            "|    US|   71|   20|\n",
            "| Japan|   82|    9|\n",
            "+------+-----+-----+\n",
            "only showing top 20 rows\n",
            "\n"
          ]
        }
      ]
    },
    {
      "cell_type": "markdown",
      "source": [
        "# Eliminar columnas"
      ],
      "metadata": {
        "id": "ILeKHy591Qrg"
      }
    },
    {
      "cell_type": "code",
      "source": [
        "df = df.drop('Second_Column', 'Third_Column')\n",
        "df"
      ],
      "metadata": {
        "colab": {
          "base_uri": "https://localhost:8080/"
        },
        "id": "M0VanUkc1Txj",
        "outputId": "c20c3256-2700-43e7-8fd4-c2a0ba2d1054"
      },
      "execution_count": null,
      "outputs": [
        {
          "output_type": "execute_result",
          "data": {
            "text/plain": [
              "DataFrame[Car: string, MPG: string, Cylinders: string, Displacement: string, Horsepower: string, Weight: string, Acceleration: string, Model: string, Origin: string]"
            ]
          },
          "metadata": {},
          "execution_count": 26
        }
      ]
    },
    {
      "cell_type": "markdown",
      "source": [
        "# Ordenar filas"
      ],
      "metadata": {
        "id": "ELiDbWP51lRZ"
      }
    },
    {
      "cell_type": "code",
      "source": [
        "df.orderBy('Cylinders', ascending = False).show(truncate = False)"
      ],
      "metadata": {
        "colab": {
          "base_uri": "https://localhost:8080/"
        },
        "id": "RNXza4QM1nBh",
        "outputId": "8b4eec60-e054-4160-ed1e-f525fb548a61"
      },
      "execution_count": null,
      "outputs": [
        {
          "output_type": "stream",
          "name": "stdout",
          "text": [
            "+-------------------------+------+---------+------------+----------+------+------------+-----+------+\n",
            "|Car                      |MPG   |Cylinders|Displacement|Horsepower|Weight|Acceleration|Model|Origin|\n",
            "+-------------------------+------+---------+------------+----------+------+------------+-----+------+\n",
            "|STRING                   |DOUBLE|INT      |DOUBLE      |DOUBLE    |DOUBLE|DOUBLE      |INT  |CAT   |\n",
            "|Plymouth 'Cuda 340       |14.0  |8        |340.0       |160.0     |3609. |8.0         |70   |US    |\n",
            "|Chevrolet Chevelle Malibu|18.0  |8        |307.0       |130.0     |3504. |12.0        |70   |US    |\n",
            "|Ford Mustang Boss 302    |0     |8        |302.0       |140.0     |3353. |8.0         |70   |US    |\n",
            "|Buick Skylark 320        |15.0  |8        |350.0       |165.0     |3693. |11.5        |70   |US    |\n",
            "|Chevrolet Monte Carlo    |15.0  |8        |400.0       |150.0     |3761. |9.5         |70   |US    |\n",
            "|AMC Rebel SST            |16.0  |8        |304.0       |150.0     |3433. |12.0        |70   |US    |\n",
            "|Buick Estate Wagon (sw)  |14.0  |8        |455.0       |225.0     |3086. |10.0        |70   |US    |\n",
            "|Ford Galaxie 500         |15.0  |8        |429.0       |198.0     |4341. |10.0        |70   |US    |\n",
            "|Ford F250                |10.0  |8        |360.0       |215.0     |4615. |14.0        |70   |US    |\n",
            "|Plymouth Fury iii        |14.0  |8        |440.0       |215.0     |4312. |8.5         |70   |US    |\n",
            "|Chevy C20                |10.0  |8        |307.0       |200.0     |4376. |15.0        |70   |US    |\n",
            "|AMC Ambassador DPL       |15.0  |8        |390.0       |190.0     |3850. |8.5         |70   |US    |\n",
            "|Dodge D200               |11.0  |8        |318.0       |210.0     |4382. |13.5        |70   |US    |\n",
            "|Ford Torino (sw)         |0     |8        |351.0       |153.0     |4034. |11.0        |70   |US    |\n",
            "|Hi 1200D                 |9.0   |8        |304.0       |193.0     |4732. |18.5        |70   |US    |\n",
            "|AMC Rebel SST (sw)       |0     |8        |360.0       |175.0     |3850. |11.0        |70   |US    |\n",
            "|Chevrolet Impala         |14.0  |8        |350.0       |165.0     |4209. |12.0        |71   |US    |\n",
            "|Dodge Challenger SE      |15.0  |8        |383.0       |170.0     |3563. |10.0        |70   |US    |\n",
            "|Pontiac Catalina Brougham|14.0  |8        |400.0       |175.0     |4464. |11.5        |71   |US    |\n",
            "+-------------------------+------+---------+------------+----------+------+------------+-----+------+\n",
            "only showing top 20 rows\n",
            "\n"
          ]
        }
      ]
    },
    {
      "cell_type": "code",
      "source": [
        "#Lo utilizamos con groupby\n",
        "\n",
        "df.groupBy('Origin').count().orderBy('count', ascending = False).show(10)"
      ],
      "metadata": {
        "colab": {
          "base_uri": "https://localhost:8080/"
        },
        "id": "r39Psv602BQe",
        "outputId": "2faefe86-4887-45ca-98e7-34ac9ba6c4d2"
      },
      "execution_count": null,
      "outputs": [
        {
          "output_type": "stream",
          "name": "stdout",
          "text": [
            "+------+-----+\n",
            "|Origin|count|\n",
            "+------+-----+\n",
            "|    US|  254|\n",
            "| Japan|   79|\n",
            "|Europe|   73|\n",
            "|   CAT|    1|\n",
            "+------+-----+\n",
            "\n"
          ]
        }
      ]
    },
    {
      "cell_type": "markdown",
      "source": [
        "# Filtrar datos:"
      ],
      "metadata": {
        "id": "hDZrHD1R2fiS"
      }
    },
    {
      "cell_type": "code",
      "source": [
        "total_count = df.count()\n",
        "print(\"Total de registros totales: \", total_count)\n",
        "\n",
        "europa = df.filter(col('Origin') == 'Europe').count()\n",
        "print(\"Total de registros de Europa: \", europa)\n",
        "\n",
        "df.filter((col('Origin') == 'Europe')& (col('HorsePower') == \"115.0\")).show(truncate= False)"
      ],
      "metadata": {
        "colab": {
          "base_uri": "https://localhost:8080/"
        },
        "id": "zwzhERFG2iky",
        "outputId": "99fb32f5-ebac-45e8-df9e-750322eb9378"
      },
      "execution_count": null,
      "outputs": [
        {
          "output_type": "stream",
          "name": "stdout",
          "text": [
            "Total de registros totales:  407\n",
            "Total de registros de Europa:  73\n",
            "+--------------------+----+---------+------------+----------+------+------------+-----+------+\n",
            "|Car                 |MPG |Cylinders|Displacement|Horsepower|Weight|Acceleration|Model|Origin|\n",
            "+--------------------+----+---------+------------+----------+------+------------+-----+------+\n",
            "|Citroen DS-21 Pallas|0   |4        |133.0       |115.0     |3090. |17.5        |70   |Europe|\n",
            "|Saab 99LE           |25.0|4        |121.0       |115.0     |2671. |13.5        |75   |Europe|\n",
            "|Saab 99gle          |21.6|4        |121.0       |115.0     |2795. |15.7        |78   |Europe|\n",
            "+--------------------+----+---------+------------+----------+------+------------+-----+------+\n",
            "\n"
          ]
        }
      ]
    }
  ]
}